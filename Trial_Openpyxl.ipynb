{
  "nbformat": 4,
  "nbformat_minor": 0,
  "metadata": {
    "colab": {
      "name": "Trial Openpyxl.ipynb",
      "provenance": [],
      "collapsed_sections": [],
      "authorship_tag": "ABX9TyM3ZLovaZQDwb5n4AqF24lK",
      "include_colab_link": true
    },
    "kernelspec": {
      "name": "python3",
      "display_name": "Python 3"
    }
  },
  "cells": [
    {
      "cell_type": "markdown",
      "metadata": {
        "id": "view-in-github",
        "colab_type": "text"
      },
      "source": [
        "<a href=\"https://colab.research.google.com/github/rendiprayoga/AMNT-/blob/master/Trial_Openpyxl.ipynb\" target=\"_parent\"><img src=\"https://colab.research.google.com/assets/colab-badge.svg\" alt=\"Open In Colab\"/></a>"
      ]
    },
    {
      "cell_type": "code",
      "metadata": {
        "colab": {
          "base_uri": "https://localhost:8080/"
        },
        "id": "hZPM_bLyr7Ad",
        "outputId": "2005cd26-377c-4198-9088-cc7c85330c5e"
      },
      "source": [
        "! pip install openpyxl"
      ],
      "execution_count": 5,
      "outputs": [
        {
          "output_type": "stream",
          "text": [
            "Requirement already satisfied: openpyxl in /usr/local/lib/python3.6/dist-packages (2.5.9)\n",
            "Requirement already satisfied: et-xmlfile in /usr/local/lib/python3.6/dist-packages (from openpyxl) (1.0.1)\n",
            "Requirement already satisfied: jdcal in /usr/local/lib/python3.6/dist-packages (from openpyxl) (1.4.1)\n"
          ],
          "name": "stdout"
        }
      ]
    },
    {
      "cell_type": "code",
      "metadata": {
        "id": "SLNvpRiCsGtS"
      },
      "source": [
        "#!/usr/bin/env python\r\n",
        "\r\n",
        "from openpyxl import Workbook\r\n",
        "import time \r\n",
        "\r\n",
        "book = Workbook()\r\n",
        "sheet = book.active\r\n",
        "\r\n",
        "sheet['A1'] = 56\r\n",
        "sheet['A2'] = 43\r\n",
        "\r\n",
        "now = time.strftime(\"%x\")\r\n",
        "sheet['A3'] = now\r\n",
        "\r\n",
        "book.save(\"sample.xlsx\")\r\n"
      ],
      "execution_count": 7,
      "outputs": []
    },
    {
      "cell_type": "code",
      "metadata": {
        "id": "xAS90EZ8uGtI"
      },
      "source": [
        "#!/usr/bin/env python\r\n",
        "\r\n",
        "from openpyxl import Workbook\r\n",
        "\r\n",
        "book = Workbook()\r\n",
        "sheet = book.active\r\n",
        "\r\n",
        "sheet['A1'] = 1\r\n",
        "sheet.cell(row=2, column=2).value = 2\r\n",
        "\r\n",
        "book.save(\"write2cell.xlsx\")\r\n"
      ],
      "execution_count": 11,
      "outputs": []
    },
    {
      "cell_type": "code",
      "metadata": {
        "id": "orZT6j9xutew"
      },
      "source": [
        "#!/usr/bin/env python \r\n",
        "\r\n",
        "from openpyxl import Workbook\r\n",
        "\r\n",
        "book = Workbook()\r\n",
        "sheet = book.active\r\n",
        "\r\n",
        "rows = (\r\n",
        "    (88, 46, 57),\r\n",
        "    (89, 38, 12),\r\n",
        "    (23, 59, 78),\r\n",
        "    (56, 21, 98),\r\n",
        "    (24, 18, 43),\r\n",
        "    (34, 15, 67)\r\n",
        ")\r\n",
        "\r\n",
        "for row in rows:\r\n",
        "  sheet.append(row)\r\n",
        "\r\n",
        "book.save('appending.xlsx')"
      ],
      "execution_count": 14,
      "outputs": []
    },
    {
      "cell_type": "code",
      "metadata": {
        "id": "lZWI-iz5zdxW"
      },
      "source": [
        ""
      ],
      "execution_count": null,
      "outputs": []
    }
  ]
}